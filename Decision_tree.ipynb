{
 "cells": [
  {
   "cell_type": "code",
   "execution_count": 3,
   "metadata": {},
   "outputs": [],
   "source": [
    "import math\n",
    "# Definición de datos de entrenamiento\n",
    "# Formato: [Clima, Temperatura, Jugar Tenis]\n",
    "data = [\n",
    "    [\"Soleado\", \"Caliente\", \"Sí\"],\n",
    "    [\"Soleado\", \"Caluroso\", \"No\"],\n",
    "    [\"Nublado\", \"Caluroso\", \"Sí\"],\n",
    "    [\"Lluvioso\", \"Suave\", \"Sí\"],\n",
    "    [\"Lluvioso\", \"Frío\", \"No\"],\n",
    "    [\"Lluvioso\", \"Frío\", \"No\"],\n",
    "    [\"Nublado\", \"Frío\", \"Sí\"],\n",
    "    [\"Soleado\", \"Suave\", \"No\"],\n",
    "    [\"Soleado\", \"Frío\", \"Sí\"],\n",
    "    [\"Lluvioso\", \"Suave\", \"Sí\"]\n",
    "]\n",
    "\n"
   ]
  },
  {
   "cell_type": "code",
   "execution_count": 4,
   "metadata": {},
   "outputs": [],
   "source": [
    "# Función para calcular la entropía\n",
    "def calcular_entropia(data):\n",
    "    etiquetas = [item[-1] for item in data]\n",
    "    etiqueta_conteo = {}\n",
    "    \n",
    "    for etiqueta in etiquetas:\n",
    "        if etiqueta in etiqueta_conteo:\n",
    "            etiqueta_conteo[etiqueta] += 1\n",
    "        else:\n",
    "            etiqueta_conteo[etiqueta] = 1\n",
    "    \n",
    "    entropia = 0\n",
    "    total_muestras = len(data)\n",
    "    \n",
    "    for etiqueta in etiqueta_conteo:\n",
    "        probabilidad = etiqueta_conteo[etiqueta] / total_muestras\n",
    "        entropia -= probabilidad * (probabilidad and math.log(probabilidad, 2))\n",
    "    \n",
    "    return entropia\n",
    "\n"
   ]
  },
  {
   "cell_type": "code",
   "execution_count": 5,
   "metadata": {},
   "outputs": [],
   "source": [
    "# Función para dividir los datos\n",
    "def dividir_datos(data, atributo, valor):\n",
    "    datos_divididos = []\n",
    "    \n",
    "    for registro in data:\n",
    "        if registro[atributo] == valor:\n",
    "            datos_divididos.append(registro)\n",
    "    \n",
    "    return datos_divididos\n",
    "\n"
   ]
  },
  {
   "cell_type": "code",
   "execution_count": 6,
   "metadata": {},
   "outputs": [],
   "source": [
    "# Función para encontrar el mejor atributo para dividir\n",
    "def encontrar_mejor_atributo(data):\n",
    "    entropia_inicial = calcular_entropia(data)\n",
    "    mejor_ganancia_informacion = 0\n",
    "    mejor_atributo = None\n",
    "    atributos = len(data[0]) - 1\n",
    "    \n",
    "    for i in range(atributos):\n",
    "        valores_atributo = [registro[i] for registro in data]\n",
    "        valores_atributo = list(set(valores_atributo))\n",
    "        \n",
    "        ganancia_informacion = 0\n",
    "        \n",
    "        for valor in valores_atributo:\n",
    "            datos_divididos = dividir_datos(data, i, valor)\n",
    "            probabilidad = len(datos_divididos) / float(len(data))\n",
    "            ganancia_informacion += probabilidad * calcular_entropia(datos_divididos)\n",
    "        \n",
    "        ganancia_informacion = entropia_inicial - ganancia_informacion\n",
    "        \n",
    "        if ganancia_informacion > mejor_ganancia_informacion:\n",
    "            mejor_ganancia_informacion = ganancia_informacion\n",
    "            mejor_atributo = i\n",
    "    \n",
    "    return mejor_atributo\n",
    "\n"
   ]
  },
  {
   "cell_type": "code",
   "execution_count": 7,
   "metadata": {},
   "outputs": [],
   "source": [
    "# Función para definir la clase (Sí o No)\n",
    "def definir_clase(data):\n",
    "    etiquetas = [registro[-1] for registro in data]\n",
    "    etiqueta_conteo = {}\n",
    "    \n",
    "    for etiqueta in etiquetas:\n",
    "        if etiqueta in etiqueta_conteo:\n",
    "            etiqueta_conteo[etiqueta] += 1\n",
    "        else:\n",
    "            etiqueta_conteo[etiqueta] = 1\n",
    "    \n",
    "    etiqueta_ordenada = sorted(etiqueta_conteo.items(), key=lambda x: x[1], reverse=True)\n",
    "    return etiqueta_ordenada[0][0]\n"
   ]
  },
  {
   "cell_type": "code",
   "execution_count": 8,
   "metadata": {},
   "outputs": [],
   "source": [
    "\n",
    "# Función recursiva para construir el árbol de decisión\n",
    "def construir_arbol(data, atributos):\n",
    "    etiquetas = [registro[-1] for registro in data]\n",
    "    \n",
    "    if len(set(etiquetas)) == 1:\n",
    "        return etiquetas[0]\n",
    "    \n",
    "    if len(data[0]) == 1 or not atributos:\n",
    "        return definir_clase(data)\n",
    "    \n",
    "    mejor_atributo = encontrar_mejor_atributo(data)\n",
    "    arbol = {mejor_atributo: {}}\n",
    "    atributos.remove(mejor_atributo)\n",
    "    valores_atributo = [registro[mejor_atributo] for registro in data]\n",
    "    valores_atributo = list(set(valores_atributo))\n",
    "    \n",
    "    for valor in valores_atributo:\n",
    "        datos_divididos = dividir_datos(data, mejor_atributo, valor)\n",
    "        arbol[mejor_atributo][valor] = construir_arbol(datos_divididos, atributos[:])\n",
    "    \n",
    "    return arbol\n",
    "\n"
   ]
  },
  {
   "cell_type": "code",
   "execution_count": 11,
   "metadata": {},
   "outputs": [],
   "source": [
    "# Función para imprimir el árbol de decisión\n",
    "def imprimir_arbol(arbol, espacio=\"\"):\n",
    "    if type(arbol) == dict:\n",
    "        atributo = list(arbol.keys())[0]\n",
    "        sub_arbol = arbol[atributo]\n",
    "        print(str(espacio) +str(atributo))\n",
    "        for valor in sub_arbol:\n",
    "            print(str(espacio) + \"  |__\" + str(valor))\n",
    "            imprimir_arbol(sub_arbol[valor], espacio + \"   \")\n",
    "\n"
   ]
  },
  {
   "cell_type": "code",
   "execution_count": 12,
   "metadata": {},
   "outputs": [
    {
     "name": "stdout",
     "output_type": "stream",
     "text": [
      "Árbol de Decisión:\n",
      "0\n",
      "  |__Soleado\n",
      "   1\n",
      "     |__Suave\n",
      "     |__Frío\n",
      "     |__Caliente\n",
      "     |__Caluroso\n",
      "  |__Nublado\n",
      "  |__Lluvioso\n",
      "   1\n",
      "     |__Frío\n",
      "     |__Suave\n"
     ]
    }
   ],
   "source": [
    "# Datos de prueba\n",
    "atributos = [0, 1]\n",
    "arbol_decision = construir_arbol(data, atributos)\n",
    "print(\"Árbol de Decisión:\")\n",
    "imprimir_arbol(arbol_decision)"
   ]
  },
  {
   "cell_type": "code",
   "execution_count": null,
   "metadata": {},
   "outputs": [],
   "source": []
  },
  {
   "cell_type": "code",
   "execution_count": null,
   "metadata": {},
   "outputs": [],
   "source": []
  }
 ],
 "metadata": {
  "kernelspec": {
   "display_name": "Python 3",
   "language": "python",
   "name": "python3"
  },
  "language_info": {
   "codemirror_mode": {
    "name": "ipython",
    "version": 3
   },
   "file_extension": ".py",
   "mimetype": "text/x-python",
   "name": "python",
   "nbconvert_exporter": "python",
   "pygments_lexer": "ipython3",
   "version": "3.11.0"
  }
 },
 "nbformat": 4,
 "nbformat_minor": 2
}
