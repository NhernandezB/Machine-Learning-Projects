{
 "cells": [
  {
   "cell_type": "code",
   "execution_count": 2,
   "metadata": {},
   "outputs": [],
   "source": [
    "# Datos de entrenamiento\n",
    "X = [[1, 1],  # Verde (1) y Rugosa (1) => Piña (1)\n",
    "     [1, 0],  # Verde (1) y Suave (0) => Piña (1)\n",
    "     [0, 1],  # Amarillo (0) y Rugosa (1) => Sandía (0)\n",
    "     [0, 0]]  # Amarillo (0) y Suave (0) => Sandía (0)\n",
    "\n",
    "y = [1, 1, 0, 0]  # Etiquetas: 1 para Piña, 0 para Sandía"
   ]
  },
  {
   "cell_type": "code",
   "execution_count": 3,
   "metadata": {},
   "outputs": [],
   "source": [
    "# Nuevos datos para predecir\n",
    "fruta_misteriosa = [1, 1]  # Nueva fruta: Verde (1) y Rugosa (1)\n",
    "\n",
    "# Función para calcular la probabilidad condicional\n",
    "def calcular_probabilidad_condicional(caracteristicas, etiqueta, datos_entrenamiento, etiquetas_entrenamiento):\n",
    "    total_etiqueta = etiquetas_entrenamiento.count(etiqueta)\n",
    "    probabilidad = 1.0\n",
    "    for i in range(len(caracteristicas)):\n",
    "        total_caracteristica = 0\n",
    "        for j in range(len(datos_entrenamiento)):\n",
    "            if datos_entrenamiento[j][i] == caracteristicas[i] and etiquetas_entrenamiento[j] == etiqueta:\n",
    "                total_caracteristica += 1\n",
    "        probabilidad *= (total_caracteristica / total_etiqueta)\n",
    "    return probabilidad\n"
   ]
  },
  {
   "cell_type": "code",
   "execution_count": 4,
   "metadata": {},
   "outputs": [],
   "source": [
    "\n",
    "# Función para realizar la predicción\n",
    "def predecir(datos_entrenamiento, etiquetas_entrenamiento, datos_nuevos):\n",
    "    etiquetas_posibles = list(set(etiquetas_entrenamiento))\n",
    "    mejor_etiqueta = None\n",
    "    mejor_probabilidad = -1\n",
    "    \n",
    "    for etiqueta in etiquetas_posibles:\n",
    "        probabilidad = calcular_probabilidad_condicional(datos_nuevos, etiqueta, datos_entrenamiento, etiquetas_entrenamiento)\n",
    "        if probabilidad > mejor_probabilidad:\n",
    "            mejor_probabilidad = probabilidad\n",
    "            mejor_etiqueta = etiqueta\n",
    "    \n",
    "    return mejor_etiqueta\n"
   ]
  },
  {
   "cell_type": "code",
   "execution_count": 5,
   "metadata": {},
   "outputs": [
    {
     "name": "stdout",
     "output_type": "stream",
     "text": [
      "La fruta misteriosa es una Piña\n"
     ]
    }
   ],
   "source": [
    "# Realiza la predicción\n",
    "resultado = predecir(X, y, fruta_misteriosa)\n",
    "\n",
    "# Imprime la predicción\n",
    "if resultado == 1:\n",
    "    print(\"La fruta misteriosa es una Piña\")\n",
    "else:\n",
    "    print(\"La fruta misteriosa es una Sandía\")"
   ]
  },
  {
   "cell_type": "code",
   "execution_count": null,
   "metadata": {},
   "outputs": [],
   "source": []
  }
 ],
 "metadata": {
  "kernelspec": {
   "display_name": "Python 3",
   "language": "python",
   "name": "python3"
  },
  "language_info": {
   "codemirror_mode": {
    "name": "ipython",
    "version": 3
   },
   "file_extension": ".py",
   "mimetype": "text/x-python",
   "name": "python",
   "nbconvert_exporter": "python",
   "pygments_lexer": "ipython3",
   "version": "3.11.0"
  }
 },
 "nbformat": 4,
 "nbformat_minor": 2
}
